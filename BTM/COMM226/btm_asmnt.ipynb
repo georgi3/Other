{
 "cells": [
  {
   "cell_type": "code",
   "execution_count": 29,
   "outputs": [],
   "source": [
    "import numpy as np\n",
    "import pandas as pd\n",
    "import seaborn as sns\n",
    "import matplotlib.pyplot as plt\n",
    "from matplotlib.pylab import rcParams"
   ],
   "metadata": {
    "collapsed": false,
    "pycharm": {
     "name": "#%%\n"
    }
   }
  },
  {
   "cell_type": "code",
   "execution_count": 30,
   "outputs": [],
   "source": [
    "rcParams['figure.figsize'] = (12, 10)\n",
    "df = pd.read_excel('~/Desktop/TED.xlsx')"
   ],
   "metadata": {
    "collapsed": false,
    "pycharm": {
     "name": "#%%\n"
    }
   }
  },
  {
   "cell_type": "markdown",
   "source": [
    "## Part One\n",
    "#### Questions (10 Marks):\n",
    "1. What was the total number of comments for all the years (2 Marks)?\n",
    "2. What was the average number of views for 2006 (2 Marks)?\n",
    "3. What was the average length of videos in 2005 (2 Marks)?\n",
    "4. Of the top 100 TED Talks, in what film year did the presentations have the highest average number of views (2 Marks)?\n",
    "5. In what film year did TED Talks see the highest number of total comments (2 Marks)?"
   ],
   "metadata": {
    "collapsed": false,
    "pycharm": {
     "name": "#%% md\n"
    }
   }
  },
  {
   "cell_type": "code",
   "execution_count": 31,
   "outputs": [
    {
     "data": {
      "text/plain": "   Film ID  Film Date Publish Date  # Comments  # Views (million)  \\\n0        1 2005-01-01   2005-03-28        3165                 20   \n1        7 2013-02-13   2013-05-09        3270                 25   \n2        2 2005-07-07   2005-10-15        1705                 45   \n3        3 2005-09-24   2005-12-30        2418                 29   \n4        4 2015-05-08   2015-06-26        1220                 32   \n\n   Length (minutes)            Speaker  \\\n0                 5       Ken Robinson   \n1                35  Jill Bolte Taylor   \n2                39          Amy Cuddy   \n3                15        Simon Sinek   \n4                18       BrenÃ© Brown   \n\n                                      Title  \\\n0               Do schools kill creativity?   \n1                      My stroke of insight   \n2  Your body language may shape who you are   \n3          How great leaders inspire action   \n4                The power of vulnerability   \n\n                                                 URL  \n0  https://www.ted.com/talks/ken_robinson_says_sc...  \n1  https://www.ted.com/talks/jill_bolte_taylor_s_...  \n2  https://www.ted.com/talks/amy_cuddy_your_body_...  \n3  https://www.ted.com/talks/simon_sinek_how_grea...  \n4  https://www.ted.com/talks/brene_brown_on_vulne...  ",
      "text/html": "<div>\n<style scoped>\n    .dataframe tbody tr th:only-of-type {\n        vertical-align: middle;\n    }\n\n    .dataframe tbody tr th {\n        vertical-align: top;\n    }\n\n    .dataframe thead th {\n        text-align: right;\n    }\n</style>\n<table border=\"1\" class=\"dataframe\">\n  <thead>\n    <tr style=\"text-align: right;\">\n      <th></th>\n      <th>Film ID</th>\n      <th>Film Date</th>\n      <th>Publish Date</th>\n      <th># Comments</th>\n      <th># Views (million)</th>\n      <th>Length (minutes)</th>\n      <th>Speaker</th>\n      <th>Title</th>\n      <th>URL</th>\n    </tr>\n  </thead>\n  <tbody>\n    <tr>\n      <th>0</th>\n      <td>1</td>\n      <td>2005-01-01</td>\n      <td>2005-03-28</td>\n      <td>3165</td>\n      <td>20</td>\n      <td>5</td>\n      <td>Ken Robinson</td>\n      <td>Do schools kill creativity?</td>\n      <td>https://www.ted.com/talks/ken_robinson_says_sc...</td>\n    </tr>\n    <tr>\n      <th>1</th>\n      <td>7</td>\n      <td>2013-02-13</td>\n      <td>2013-05-09</td>\n      <td>3270</td>\n      <td>25</td>\n      <td>35</td>\n      <td>Jill Bolte Taylor</td>\n      <td>My stroke of insight</td>\n      <td>https://www.ted.com/talks/jill_bolte_taylor_s_...</td>\n    </tr>\n    <tr>\n      <th>2</th>\n      <td>2</td>\n      <td>2005-07-07</td>\n      <td>2005-10-15</td>\n      <td>1705</td>\n      <td>45</td>\n      <td>39</td>\n      <td>Amy Cuddy</td>\n      <td>Your body language may shape who you are</td>\n      <td>https://www.ted.com/talks/amy_cuddy_your_body_...</td>\n    </tr>\n    <tr>\n      <th>3</th>\n      <td>3</td>\n      <td>2005-09-24</td>\n      <td>2005-12-30</td>\n      <td>2418</td>\n      <td>29</td>\n      <td>15</td>\n      <td>Simon Sinek</td>\n      <td>How great leaders inspire action</td>\n      <td>https://www.ted.com/talks/simon_sinek_how_grea...</td>\n    </tr>\n    <tr>\n      <th>4</th>\n      <td>4</td>\n      <td>2015-05-08</td>\n      <td>2015-06-26</td>\n      <td>1220</td>\n      <td>32</td>\n      <td>18</td>\n      <td>BrenÃ© Brown</td>\n      <td>The power of vulnerability</td>\n      <td>https://www.ted.com/talks/brene_brown_on_vulne...</td>\n    </tr>\n  </tbody>\n</table>\n</div>"
     },
     "execution_count": 31,
     "metadata": {},
     "output_type": "execute_result"
    }
   ],
   "source": [
    "df.head()"
   ],
   "metadata": {
    "collapsed": false,
    "pycharm": {
     "name": "#%%\n"
    }
   }
  },
  {
   "cell_type": "code",
   "execution_count": 32,
   "outputs": [
    {
     "name": "stdout",
     "output_type": "stream",
     "text": [
      "<class 'pandas.core.frame.DataFrame'>\n",
      "RangeIndex: 100 entries, 0 to 99\n",
      "Data columns (total 9 columns):\n",
      " #   Column             Non-Null Count  Dtype         \n",
      "---  ------             --------------  -----         \n",
      " 0   Film ID            100 non-null    int64         \n",
      " 1   Film Date          100 non-null    datetime64[ns]\n",
      " 2   Publish Date       100 non-null    datetime64[ns]\n",
      " 3   # Comments         100 non-null    int64         \n",
      " 4   # Views (million)  100 non-null    int64         \n",
      " 5   Length (minutes)   100 non-null    int64         \n",
      " 6   Speaker            100 non-null    object        \n",
      " 7   Title              100 non-null    object        \n",
      " 8   URL                100 non-null    object        \n",
      "dtypes: datetime64[ns](2), int64(4), object(3)\n",
      "memory usage: 7.2+ KB\n"
     ]
    }
   ],
   "source": [
    "df.info()"
   ],
   "metadata": {
    "collapsed": false,
    "pycharm": {
     "name": "#%%\n"
    }
   }
  },
  {
   "cell_type": "code",
   "execution_count": 33,
   "outputs": [
    {
     "name": "stdout",
     "output_type": "stream",
     "text": [
      "Q1). What was the total number of comments for all the years (2 Marks)?\n",
      "A1). Total number of comments is 0     3165\n",
      "1     3270\n",
      "2     1705\n",
      "3     2418\n",
      "4     1220\n",
      "      ... \n",
      "95    1993\n",
      "96    4244\n",
      "97    2742\n",
      "98    4541\n",
      "99    3083\n",
      "Name: # Comments, Length: 100, dtype: int64\n"
     ]
    }
   ],
   "source": [
    "total_comments = df['# Comments']\n",
    "print(f'Q1). What was the total number of comments for all the years (2 Marks)?')\n",
    "print(f'A1). Total number of comments is {total_comments}')"
   ],
   "metadata": {
    "collapsed": false,
    "pycharm": {
     "name": "#%%\n"
    }
   }
  },
  {
   "cell_type": "code",
   "execution_count": 34,
   "outputs": [
    {
     "name": "stdout",
     "output_type": "stream",
     "text": [
      "Q2). What was the average number of views for 2006 (2 Marks)?\n",
      "A2). Average number of views in 2006 was  12.3333 (in millions)\n"
     ]
    }
   ],
   "source": [
    "avg_views_in_2006 = df[df['Film Date'].dt.year == 2006]['# Views (million)'].mean()\n",
    "print(f'Q2). What was the average number of views for 2006 (2 Marks)?')\n",
    "print(f'A2). Average number of views in 2006 was {avg_views_in_2006: .4f} (in millions)')"
   ],
   "metadata": {
    "collapsed": false,
    "pycharm": {
     "name": "#%%\n"
    }
   }
  },
  {
   "cell_type": "code",
   "execution_count": 35,
   "outputs": [
    {
     "name": "stdout",
     "output_type": "stream",
     "text": [
      "Q3). What was the average length of videos in 2005 (2 Marks)?\n",
      "A3). Average length of videos in 2005 is  22.2857 minutes.\n"
     ]
    }
   ],
   "source": [
    "avg_video_length_in_2005 = df[df['Film Date'].dt.year == 2005]['Length (minutes)'].mean()\n",
    "print(f'Q3). What was the average length of videos in 2005 (2 Marks)?')\n",
    "print(f'A3). Average length of videos in 2005 is {avg_video_length_in_2005: .4f} minutes.')"
   ],
   "metadata": {
    "collapsed": false,
    "pycharm": {
     "name": "#%%\n"
    }
   }
  },
  {
   "cell_type": "code",
   "execution_count": 36,
   "outputs": [
    {
     "name": "stdout",
     "output_type": "stream",
     "text": [
      "Q4). Of the top 100 TED Talks, in what film year did the presentations have the highest average number of views (2 Marks)?\n",
      "A4). Descending order of average number of views in millions by year: Film Date\n",
      "2007    32.714286\n",
      "2016    32.625000\n",
      "2008    31.166667\n",
      "2005    29.428571\n",
      "2003    27.857143\n",
      "2014    27.500000\n",
      "2004    25.000000\n",
      "2013    23.666667\n",
      "2009    23.600000\n",
      "2011    23.571429\n",
      "2015    23.428571\n",
      "2012    20.571429\n",
      "2010    19.714286\n",
      "2017    19.333333\n",
      "2006    12.333333\n",
      "Name: # Views (million), dtype: float64\n"
     ]
    }
   ],
   "source": [
    "avg_views_by_year = df.groupby(df['Film Date'].dt.year)['# Views (million)'].mean().sort_values(ascending=False)\n",
    "print(f'Q4). Of the top 100 TED Talks, in what film year did the presentations have the highest average number of views (2 Marks)?')\n",
    "print(f'A4). Descending order of average number of views in millions by year: {avg_views_by_year}')"
   ],
   "metadata": {
    "collapsed": false,
    "pycharm": {
     "name": "#%%\n"
    }
   }
  },
  {
   "cell_type": "code",
   "execution_count": 37,
   "outputs": [
    {
     "name": "stdout",
     "output_type": "stream",
     "text": [
      "Q5). In what film year did TED Talks see the highest number of total comments (2 Marks)?\n",
      "A5). Descending order of total number of comments by year: Film Date\n",
      "2010    22738\n",
      "2003    20292\n",
      "2004    19981\n",
      "2013    19677\n",
      "2011    17992\n",
      "2014    17924\n",
      "2005    17145\n",
      "2012    16958\n",
      "2016    16555\n",
      "2007    13505\n",
      "2015    10914\n",
      "2008    10514\n",
      "2009    10406\n",
      "2017     9881\n",
      "2006     6659\n",
      "Name: # Comments, dtype: int64\n"
     ]
    }
   ],
   "source": [
    "total_comments_by_year = df.groupby(df['Film Date'].dt.year)['# Comments'].sum().sort_values(ascending=False)\n",
    "print(f'Q5). In what film year did TED Talks see the highest number of total comments (2 Marks)?')\n",
    "print(f'A5). Descending order of total number of comments by year: {total_comments_by_year}')"
   ],
   "metadata": {
    "collapsed": false,
    "pycharm": {
     "name": "#%%\n"
    }
   }
  },
  {
   "cell_type": "markdown",
   "source": [
    "## Part 2\n",
    "###### Insert columns “Month”, “Count.”. The Month column should contain the numbers 1-12. In the Count column, using a formula, count the number of times a month is displayed in the top 100 video film dates\n",
    "###### Questions (10 Marks)\n",
    "1. Use the updated data in sheet “Q1 & Q2” to insert a bar chart at the bottom of the sheet to\n",
    "visualize the frequency of the months when filming takes place (4Marks).\n",
    "2. In which month have the most presentations been filmed (2 Marks)?\n",
    "3. In which month have the fewest presentations been filmed (2 Marks)?\n",
    "4. Of the videos presented, how many were filmed in July (2 Marks)?"
   ],
   "metadata": {
    "collapsed": false,
    "pycharm": {
     "name": "#%% md\n"
    }
   }
  },
  {
   "cell_type": "code",
   "execution_count": 38,
   "outputs": [],
   "source": [
    "df['Month'] = df['Film Date'].dt.month\n",
    "month_freq = df.groupby(df['Month'])['Film ID'].count().sort_values(ascending=False).reset_index()\n",
    "month_freq.rename(columns={'Film ID': 'Frequency'}, inplace=True)"
   ],
   "metadata": {
    "collapsed": false,
    "pycharm": {
     "name": "#%%\n"
    }
   }
  },
  {
   "cell_type": "code",
   "execution_count": 39,
   "outputs": [
    {
     "name": "stdout",
     "output_type": "stream",
     "text": [
      "Q1. Use the updated data in sheet “Q1 & Q2” to insert a bar chart at the bottom of the sheet to visualize the frequency of the months when filming takes place. \n"
     ]
    },
    {
     "data": {
      "text/plain": "<Figure size 864x720 with 1 Axes>",
      "image/png": "[encoded data removed]"
     },
     "metadata": {},
     "output_type": "display_data"
    }
   ],
   "source": [
    "print(f'Q1. Use the updated data in sheet “Q1 & Q2” to insert a bar chart at the bottom of the sheet to visualize the frequency of the months when filming takes place. ')\n",
    "barchart = sns.barplot(data=month_freq, x='Month', y='Frequency')\n",
    "barchart.set_title('Bar Chart of Month Frequency when Filming took place.');"
   ],
   "metadata": {
    "collapsed": false,
    "pycharm": {
     "name": "#%%\n"
    }
   }
  },
  {
   "cell_type": "code",
   "execution_count": 40,
   "outputs": [
    {
     "name": "stdout",
     "output_type": "stream",
     "text": [
      "Q2). In which month have the most presentations been filmed?\n",
      "A2). The most presentation have been filmed in month 8 which is 15\n"
     ]
    }
   ],
   "source": [
    "print(f'Q2). In which month have the most presentations been filmed?')\n",
    "print(f'A2). The most presentation have been filmed in month {month_freq[\"Month\"].iloc[0]} which is {month_freq[\"Frequency\"].iloc[0]}')"
   ],
   "metadata": {
    "collapsed": false,
    "pycharm": {
     "name": "#%%\n"
    }
   }
  },
  {
   "cell_type": "code",
   "execution_count": 41,
   "outputs": [
    {
     "name": "stdout",
     "output_type": "stream",
     "text": [
      "Q3). In which month have the fewest presentations been filmed?\n",
      "A3). The least presentation have been filmed in month [5, 12] which is 5\n"
     ]
    }
   ],
   "source": [
    "print(f'Q3). In which month have the fewest presentations been filmed?')\n",
    "print(f'A3). The least presentation have been filmed in month {list(month_freq[\"Month\"].iloc[-2:])} which is {month_freq[\"Frequency\"].iloc[-1]}')"
   ],
   "metadata": {
    "collapsed": false,
    "pycharm": {
     "name": "#%%\n"
    }
   }
  },
  {
   "cell_type": "code",
   "execution_count": 42,
   "outputs": [
    {
     "name": "stdout",
     "output_type": "stream",
     "text": [
      "Q4). Of the videos presented, how many were filmed in July?\n",
      "A4). The number of videos filmed in July is 7\n"
     ]
    }
   ],
   "source": [
    "presentations_in_july = month_freq.loc[month_freq['Month'] == 7]['Frequency']\n",
    "print(f'Q4). Of the videos presented, how many were filmed in July?')\n",
    "print(f'A4). The number of videos filmed in July is {presentations_in_july.iloc[0]}')"
   ],
   "metadata": {
    "collapsed": false,
    "pycharm": {
     "name": "#%%\n"
    }
   }
  },
  {
   "cell_type": "markdown",
   "source": [
    "## Part 3\n",
    "- Using conditional formatting, have the descriptive tag counts that are above average display with a\n",
    "green background and those with below average count display with a red background.\n",
    "- Manually group rows together (using copy and paste) until you have stacked the colors together as much as possible. (Hint: insert a blank row before you move one, so you do not accidentally delete\n",
    "any data.) Note that although there is no right or wrong way to stack the rows, you want to stack them so that the colors tell the most compelling story.\n",
    "1. Submit your excel file including the visualized table. (6 Marks).\n",
    "2. How many times was “Inspiring” tagged for the top ranked video (3 Marks)\n",
    "3. How many times was “OK” above average (3 Marks)?\n",
    "4. How many times was “Funny” above average (3 Marks)?\n"
   ],
   "metadata": {
    "collapsed": false,
    "pycharm": {
     "name": "#%% md\n"
    }
   }
  },
  {
   "cell_type": "code",
   "execution_count": 43,
   "outputs": [],
   "source": [
    "df = pd.read_excel('~/Desktop/Ted.xlsx', sheet_name='Q3')\n",
    "df.rename(columns={'Ranking': 'Tagged_Word'}, inplace=True)"
   ],
   "metadata": {
    "collapsed": false,
    "pycharm": {
     "name": "#%%\n"
    }
   }
  },
  {
   "cell_type": "code",
   "execution_count": 44,
   "outputs": [],
   "source": [
    "# Preparing DataFrame to style\n",
    "tag_mean = df.iloc[:, 1:].sum().sum() / df.iloc[:, 1:].size\n",
    "bool_df = pd.concat([df['Tagged_Word'], (df.iloc[:, 1:] > tag_mean)], axis=1)\n",
    "bool_df['Above_Avg_Cnt'] = bool_df.iloc[:, 1:].sum(axis=1)\n",
    "bool_df.sort_values(ascending=False, by='Above_Avg_Cnt', inplace=True)\n",
    "colors = pd.DataFrame(np.where(bool_df.iloc[:, 1:-1], 'green', 'red'), columns=[*range(1, 11)])\n",
    "rest = bool_df.loc[:, ['Tagged_Word', 'Above_Avg_Cnt']]\n",
    "regular_df = pd.concat([rest, df.iloc[:, 1:]], axis=1)\n",
    "regular_df.reset_index(drop=True, inplace=True)\n",
    "rest.reset_index(drop=True, inplace=True)\n",
    "color_mapped_df = pd.concat([rest, colors], axis=1)"
   ],
   "metadata": {
    "collapsed": false,
    "pycharm": {
     "name": "#%%\n"
    }
   }
  },
  {
   "cell_type": "code",
   "execution_count": 45,
   "outputs": [
    {
     "name": "stdout",
     "output_type": "stream",
     "text": [
      "Q1). Interpretation #1 \n",
      "Above average tags are colored in green, below average in red. Rows are sorted in descending order by \"Above_Avg_Cnt\" column. Therefore, rows where tagged word appears to be used above the average count the most will be at top.\n"
     ]
    }
   ],
   "source": [
    "# Styling DataFrame\n",
    "st_df = regular_df.style.format()\n",
    "st_df.set_table_styles([\n",
    "    {'selector': '.green', 'props': 'background-color: green; border: 1px solid black;'},\n",
    "    {'selector': '.red', 'props': 'background-color: red; border: 1px solid black;'},\n",
    "], overwrite=False)\n",
    "print('Q1). Interpretation #1 \\nAbove average tags are colored in green, below average in red. Rows are sorted in descending order by \"Above_Avg_Cnt\" column. Therefore, rows where tagged word appears to be used above the average count the most will be at top.')\n",
    "# st_df.set_td_classes(color_mapped_df)"
   ],
   "metadata": {
    "collapsed": false,
    "pycharm": {
     "name": "#%%\n"
    }
   }
  },
  {
   "cell_type": "markdown",
   "source": [
    "<img src=\"media/colored_border.png\" alt=\"drawing\" width=\"700\"/>"
   ],
   "metadata": {
    "collapsed": false,
    "pycharm": {
     "name": "#%% md\n"
    }
   }
  },
  {
   "cell_type": "code",
   "execution_count": 46,
   "outputs": [
    {
     "name": "stdout",
     "output_type": "stream",
     "text": [
      "Q1). Interpretation #2 \n",
      "Visualized table.\n"
     ]
    },
    {
     "data": {
      "text/plain": "<Figure size 864x720 with 1 Axes>",
      "image/png": "[encoded data removed]"
     },
     "metadata": {},
     "output_type": "display_data"
    }
   ],
   "source": [
    "# Bar Chart for Most Common Tagged Words\n",
    "word_cnt = pd.concat([df['Tagged_Word'], df.iloc[:, 1:].sum(axis=1)], axis=1)\n",
    "word_cnt.rename(columns={0: 'Count'}, inplace=True)\n",
    "word_cnt.sort_values(ascending=False, by='Count', inplace=True)\n",
    "mean_count = word_cnt['Count'].mean()\n",
    "word_cnt['Legend'] = ['Above Average' if (cnt > word_cnt['Count'].mean()) else 'Below Average' for cnt in word_cnt['Count']]\n",
    "word_cnt.reset_index(drop=True, inplace=True)\n",
    "print('Q1). Interpretation #2 \\nVisualized table.')\n",
    "barchart1 = sns.barplot(data=word_cnt, y='Tagged_Word', x='Count', hue='Legend', palette=['green', 'red'])\n",
    "plt.title('Bar Chart for Most Common Tagged Words');"
   ],
   "metadata": {
    "collapsed": false,
    "pycharm": {
     "name": "#%%\n"
    }
   }
  },
  {
   "cell_type": "code",
   "execution_count": 47,
   "outputs": [
    {
     "name": "stdout",
     "output_type": "stream",
     "text": [
      "Q2). How many times was “Inspiring” tagged for the top ranked video.\n",
      "A2). Word “Inspiring” was tagged 13780 for the top ranked video.\n"
     ]
    }
   ],
   "source": [
    "print(f'Q2). How many times was “Inspiring” tagged for the top ranked video.')\n",
    "print(f'A2). Word “Inspiring” was tagged {df[df[\"Tagged_Word\"] == \"Inspiring\"][1].iloc[0]} for the top ranked video.')"
   ],
   "metadata": {
    "collapsed": false,
    "pycharm": {
     "name": "#%%\n"
    }
   }
  },
  {
   "cell_type": "code",
   "execution_count": 48,
   "outputs": [
    {
     "name": "stdout",
     "output_type": "stream",
     "text": [
      "Q3). How many times was “OK” above average?\n",
      "A3). Word “OK” was tagged above average 5 times out of Top 10 videos.\n"
     ]
    }
   ],
   "source": [
    "print(f'Q3). How many times was “OK” above average?')\n",
    "print(f'A3). Word “OK” was tagged above average {regular_df[regular_df[\"Tagged_Word\"] == \"OK\"][\"Above_Avg_Cnt\"].iloc[0]} times out of Top 10 videos.')"
   ],
   "metadata": {
    "collapsed": false,
    "pycharm": {
     "name": "#%%\n"
    }
   }
  },
  {
   "cell_type": "code",
   "execution_count": 49,
   "outputs": [
    {
     "name": "stdout",
     "output_type": "stream",
     "text": [
      "Q4). How many times was “Funny” above average?\n",
      "A4). Word “Funny” was tagged above average 7 times out of Top 10 videos.\n"
     ]
    }
   ],
   "source": [
    "print(f'Q4). How many times was “Funny” above average?')\n",
    "print(f'A4). Word “Funny” was tagged above average {regular_df[regular_df[\"Tagged_Word\"] == \"Funny\"][\"Above_Avg_Cnt\"].iloc[0]} times out of Top 10 videos.')"
   ],
   "metadata": {
    "collapsed": false,
    "pycharm": {
     "name": "#%%\n"
    }
   }
  }
 ],
 "metadata": {
  "kernelspec": {
   "display_name": "Python 3",
   "language": "python",
   "name": "python3"
  },
  "language_info": {
   "codemirror_mode": {
    "name": "ipython",
    "version": 2
   },
   "file_extension": ".py",
   "mimetype": "text/x-python",
   "name": "python",
   "nbconvert_exporter": "python",
   "pygments_lexer": "ipython2",
   "version": "2.7.6"
  }
 },
 "nbformat": 4,
 "nbformat_minor": 0
}